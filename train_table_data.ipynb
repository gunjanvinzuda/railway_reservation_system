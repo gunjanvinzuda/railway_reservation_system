{
 "cells": [
  {
   "cell_type": "code",
   "execution_count": 2,
   "id": "desirable-replica",
   "metadata": {},
   "outputs": [],
   "source": [
    "import random as rn\n",
    "import pandas as pd"
   ]
  },
  {
   "cell_type": "code",
   "execution_count": 86,
   "id": "restricted-count",
   "metadata": {},
   "outputs": [
    {
     "name": "stdout",
     "output_type": "stream",
     "text": [
      "<option>Abohar, Punjab</option><option>Adilabad, Telangana</option><option>Agartala, Tripura</option><option>Agra, Uttar Pradesh</option><option>Ahmadnagar, Maharashtra</option><option>Ahmedabad, Gujarat</option><option>Aizawl  , Mizoram</option><option>Ajmer, Rajasthan</option><option>Akola, Maharashtra</option><option>Alappuzha, Kerala</option><option>Aligarh, Uttar Pradesh</option><option>Alipurduar, West Bengal</option><option>Allahabad, Uttar Pradesh</option><option>Alwar, Rajasthan</option><option>Ambala, Haryana</option><option>Amaravati, Maharashtra</option><option>Amritsar, Punjab</option><option>Asansol, West Bengal</option><option>Aurangabad, Maharashtra</option><option>Aurangabad, Bihar</option><option>Bakshpur, Uttar Pradesh</option><option>Bamanpuri, Uttar Pradesh</option><option>Baramula, Jammu and Kashmir</option><option>Barddhaman, West Bengal</option><option>Bareilly, Uttar Pradesh</option><option>Belgaum, Karnataka</option><option>Bellary, Karnataka</option><option>Bengaluru, Karnataka</option><option>Bhagalpur, Bihar</option><option>Bharatpur, Rajasthan</option><option>Bharauri, Uttar Pradesh</option><option>Bhatpara, West Bengal</option><option>Bhavnagar, Gujarat</option><option>Bhilai, Chhattisgarh</option><option>Bhilwara, Rajasthan</option><option>Bhiwandi, Maharashtra</option><option>Bhiwani, Haryana</option><option>Bhopal , Madhya Pradesh</option><option>Bhubaneshwar, Odisha</option><option>Bhuj, Gujarat</option><option>Bhusaval, Maharashtra</option><option>Bidar, Karnataka</option><option>Bijapur, Karnataka</option><option>Bikaner, Rajasthan</option><option>Bilaspur, Chhattisgarh</option><option>Brahmapur, Odisha</option><option>Budaun, Uttar Pradesh</option><option>Bulandshahr, Uttar Pradesh</option><option>Calicut, Kerala</option><option>Chanda, Maharashtra</option><option>Chandigarh , Chandigarh</option><option>Chennai, Tamil Nadu </option><option>Chikka Mandya, Karnataka</option><option>Chirala, Andhra Pradesh</option><option>Coimbatore, Tamil Nadu </option><option>Cuddalore, Tamil Nadu </option><option>Cuttack, Odisha</option><option>Daman, Daman and Diu</option><option>Davangere, Karnataka</option><option>DehraDun, Uttarakhand</option><option>Delhi, Delhi</option><option>Dhanbad, Jharkhand</option><option>Dibrugarh, Assam</option><option>Dindigul, Tamil Nadu </option><option>Dispur, Assam</option><option>Diu, Daman and Diu</option><option>Faridabad, Haryana</option><option>Firozabad, Uttar Pradesh</option><option>Fyzabad, Uttar Pradesh</option><option>Gangtok, Sikkim</option><option>Gaya, Bihar</option><option>Ghandinagar, Gujarat</option><option>Ghaziabad, Uttar Pradesh</option><option>Gopalpur, Uttar Pradesh</option><option>Gulbarga, Karnataka</option><option>Guntur, Andhra Pradesh</option><option>Gurugram, Haryana</option><option>Guwahati, Assam</option><option>Gwalior, Madhya Pradesh</option><option>Haldia, West Bengal</option><option>Haora, West Bengal</option><option>Hapur, Uttar Pradesh</option><option>Haripur, Punjab</option><option>Hata, Uttar Pradesh</option><option>Hindupur, Andhra Pradesh</option><option>Hisar, Haryana</option><option>Hospet, Karnataka</option><option>Hubli, Karnataka</option><option>Hyderabad, Telangana</option><option>Imphal, Manipur</option><option>Indore, Madhya Pradesh</option><option>Itanagar, Arunachal Pradesh</option><option>Jabalpur, Madhya Pradesh</option><option>Jaipur, Rajasthan</option><option>Jammu, Jammu and Kashmir</option><option>Jamshedpur, Jharkhand</option><option>Jhansi, Uttar Pradesh</option><option>Jodhpur, Rajasthan</option><option>Jorhat, Assam</option><option>Kagaznagar, Andhra Pradesh</option><option>Kakinada, Andhra Pradesh</option><option>Kalyan, Maharashtra</option><option>Karimnagar, Telangana</option><option>Karnal, Haryana</option><option>Karur, Tamil Nadu </option><option>Kavaratti, Lakshadweep</option><option>Khammam, Telangana</option><option>Khanapur, Maharashtra</option><option>Kochi, Kerala</option><option>Kohima, Nagaland</option><option>Kolar, Karnataka</option><option>Kolhapur, Maharashtra</option><option>Kolkata , West Bengal</option><option>Kollam, Kerala</option><option>Kota, Rajasthan</option><option>Krishnanagar, West Bengal</option><option>Krishnapuram, Tamil Nadu </option><option>Kumbakonam, Tamil Nadu </option><option>Kurnool, Andhra Pradesh</option><option>Latur, Maharashtra</option><option>Lucknow, Uttar Pradesh</option><option>Ludhiana, Punjab</option><option>Machilipatnam, Andhra Pradesh</option><option>Madurai, Tamil Nadu </option><option>Mahabubnagar, Telangana</option><option>Malegaon Camp, Maharashtra</option><option>Mangalore, Karnataka</option><option>Mathura, Uttar Pradesh</option><option>Meerut, Uttar Pradesh</option><option>Mirzapur, Uttar Pradesh</option><option>Moradabad, Uttar Pradesh</option><option>Mumbai, Maharashtra</option><option>Muzaffarnagar, Uttar Pradesh</option><option>Muzaffarpur, Bihar</option><option>Mysore, Karnataka</option><option>Nagercoil, Tamil Nadu </option><option>Nalgonda, Telangana</option><option>Nanded, Maharashtra</option><option>Nandyal, Andhra Pradesh</option><option>Nasik, Maharashtra</option><option>Navsari, Gujarat</option><option>Nellore, Andhra Pradesh</option><option>New Delhi, Delhi</option><option>Nizamabad, Telangana</option><option>Ongole, Andhra Pradesh</option><option>Pali, Rajasthan</option><option>Panaji, Goa</option><option>Panchkula, Haryana</option><option>Panipat, Haryana</option><option>Parbhani, Maharashtra</option><option>Pathankot, Punjab</option><option>Patiala, Punjab</option><option>Patna, Bihar</option><option>Pilibhit, Uttar Pradesh</option><option>Porbandar, Gujarat</option><option>Port Blair, Andaman and Nicobar Islands</option><option>Proddatur, Andhra Pradesh</option><option>Puducherry, Puducherry</option><option>Pune, Maharashtra</option><option>Puri, Odisha</option><option>Purnea, Bihar</option><option>Raichur, Karnataka</option><option>Raipur, Chhattisgarh</option><option>Rajahmundry, Andhra Pradesh</option><option>Rajapalaiyam, Tamil Nadu </option><option>Rajkot, Gujarat</option><option>Ramagundam, Telangana</option><option>Rampura, Rajasthan</option><option>Ranchi, Jharkhand</option><option>Ratlam, Madhya Pradesh</option><option>Raurkela, Odisha</option><option>Rohtak, Haryana</option><option>Saharanpur, Uttar Pradesh</option><option>Saidapur, Uttar Pradesh</option><option>Saidpur, Jammu and Kashmir</option><option>Salem, Tamil Nadu </option><option>Samlaipadar, Odisha</option><option>Sangli, Maharashtra</option><option>Saugor, Madhya Pradesh</option><option>Shahbazpur, Uttar Pradesh</option><option>Shiliguri, West Bengal</option><option>Shillong , Meghalaya</option><option>Shimla, Himachal Pradesh</option><option>Shimoga, Karnataka</option><option>Sikar, Rajasthan</option><option>Silchar, Assam</option><option>Silvassa, Dadra and Nagar Haveli</option><option>Sirsa, Haryana</option><option>Sonipat, Haryana</option><option>Srinagar, Jammu and Kashmir</option><option>Surat, Gujarat</option><option>Tezpur, Assam</option><option>Thanjavur, Tamil Nadu </option><option>Tharati Etawah, Uttar Pradesh</option><option>Thiruvananthapuram, Kerala</option><option>Tiruchchirappalli, Tamil Nadu </option><option>Tirunelveli, Tamil Nadu </option><option>Tirupati, Andhra Pradesh</option><option>Tiruvannamalai, Tamil Nadu </option><option>Tonk, Rajasthan</option><option>Tuticorin, Tamil Nadu </option><option>Udaipur, Rajasthan</option><option>Ujjain, Madhya Pradesh</option><option>Vadodara, Gujarat</option><option>Valparai, Tamil Nadu </option><option>Varanasi, Uttar Pradesh</option><option>Vellore, Tamil Nadu </option><option>Vishakhapatnam, Andhra Pradesh</option><option>Vizianagaram, Andhra Pradesh</option><option>Warangal, Telangana</option><option>Jorapokhar, Jharkhand</option><option>Brajrajnagar, Odisha</option><option>Talcher, Odisha</option>"
     ]
    }
   ],
   "source": [
    "'''\n",
    "<option>{cities}</option>\n",
    "'''\n",
    "for citie in _cities:\n",
    "    print(f\"<option>{citie}</option>\", end=\"\")"
   ]
  },
  {
   "cell_type": "code",
   "execution_count": 78,
   "id": "architectural-stephen",
   "metadata": {},
   "outputs": [
    {
     "data": {
      "text/html": [
       "<div>\n",
       "<style scoped>\n",
       "    .dataframe tbody tr th:only-of-type {\n",
       "        vertical-align: middle;\n",
       "    }\n",
       "\n",
       "    .dataframe tbody tr th {\n",
       "        vertical-align: top;\n",
       "    }\n",
       "\n",
       "    .dataframe thead th {\n",
       "        text-align: right;\n",
       "    }\n",
       "</style>\n",
       "<table border=\"1\" class=\"dataframe\">\n",
       "  <thead>\n",
       "    <tr style=\"text-align: right;\">\n",
       "      <th></th>\n",
       "      <th>City</th>\n",
       "      <th>Lat</th>\n",
       "      <th>Long</th>\n",
       "      <th>country</th>\n",
       "      <th>iso2</th>\n",
       "      <th>State</th>\n",
       "    </tr>\n",
       "  </thead>\n",
       "  <tbody>\n",
       "    <tr>\n",
       "      <th>0</th>\n",
       "      <td>Abohar</td>\n",
       "      <td>30.144533</td>\n",
       "      <td>74.195520</td>\n",
       "      <td>India</td>\n",
       "      <td>IN</td>\n",
       "      <td>Punjab</td>\n",
       "    </tr>\n",
       "    <tr>\n",
       "      <th>1</th>\n",
       "      <td>Adilabad</td>\n",
       "      <td>19.400000</td>\n",
       "      <td>78.310000</td>\n",
       "      <td>India</td>\n",
       "      <td>IN</td>\n",
       "      <td>Telangana</td>\n",
       "    </tr>\n",
       "    <tr>\n",
       "      <th>2</th>\n",
       "      <td>Agartala</td>\n",
       "      <td>23.836049</td>\n",
       "      <td>91.279386</td>\n",
       "      <td>India</td>\n",
       "      <td>IN</td>\n",
       "      <td>Tripura</td>\n",
       "    </tr>\n",
       "    <tr>\n",
       "      <th>3</th>\n",
       "      <td>Agra</td>\n",
       "      <td>27.187935</td>\n",
       "      <td>78.003944</td>\n",
       "      <td>India</td>\n",
       "      <td>IN</td>\n",
       "      <td>Uttar Pradesh</td>\n",
       "    </tr>\n",
       "    <tr>\n",
       "      <th>4</th>\n",
       "      <td>Ahmadnagar</td>\n",
       "      <td>19.094571</td>\n",
       "      <td>74.738432</td>\n",
       "      <td>India</td>\n",
       "      <td>IN</td>\n",
       "      <td>Maharashtra</td>\n",
       "    </tr>\n",
       "  </tbody>\n",
       "</table>\n",
       "</div>"
      ],
      "text/plain": [
       "         City        Lat       Long country iso2          State\n",
       "0      Abohar  30.144533  74.195520   India   IN         Punjab\n",
       "1    Adilabad  19.400000  78.310000   India   IN      Telangana\n",
       "2    Agartala  23.836049  91.279386   India   IN        Tripura\n",
       "3        Agra  27.187935  78.003944   India   IN  Uttar Pradesh\n",
       "4  Ahmadnagar  19.094571  74.738432   India   IN    Maharashtra"
      ]
     },
     "execution_count": 78,
     "metadata": {},
     "output_type": "execute_result"
    }
   ],
   "source": [
    "file_name = \"Indian_Cities_Database.csv\"\n",
    "cities_data = pd.read_csv(file_name)\n",
    "cities_data.head()"
   ]
  },
  {
   "cell_type": "code",
   "execution_count": 79,
   "id": "weekly-spotlight",
   "metadata": {},
   "outputs": [
    {
     "name": "stdout",
     "output_type": "stream",
     "text": [
      "213 213\n"
     ]
    }
   ],
   "source": [
    "cities = list(cities_data[\"City\"])\n",
    "states = list(cities_data[\"State\"])\n",
    "print(len(cities), len(states))"
   ]
  },
  {
   "cell_type": "code",
   "execution_count": 81,
   "id": "liquid-divorce",
   "metadata": {},
   "outputs": [
    {
     "name": "stdout",
     "output_type": "stream",
     "text": [
      "213\n"
     ]
    },
    {
     "data": {
      "text/plain": [
       "['Abohar, Punjab',\n",
       " 'Adilabad, Telangana',\n",
       " 'Agartala, Tripura',\n",
       " 'Agra, Uttar Pradesh',\n",
       " 'Ahmadnagar, Maharashtra',\n",
       " 'Ahmedabad, Gujarat',\n",
       " 'Aizawl  , Mizoram',\n",
       " 'Ajmer, Rajasthan',\n",
       " 'Akola, Maharashtra',\n",
       " 'Alappuzha, Kerala']"
      ]
     },
     "execution_count": 81,
     "metadata": {},
     "output_type": "execute_result"
    }
   ],
   "source": [
    "_cities = list()\n",
    "for i in range(len(states)):\n",
    "    string = cities[i] + \", \" + states[i]\n",
    "    _cities.append(string)\n",
    "print(len(_cities))    \n",
    "_cities[:10]"
   ]
  },
  {
   "cell_type": "code",
   "execution_count": 1,
   "id": "special-baltimore",
   "metadata": {},
   "outputs": [],
   "source": [
    "# class_type = [\n",
    "#     \"Air-Conditioned Executive Chair Class (EC)\", \n",
    "#     \"Air-Conditioned First Class (1AC)\",\n",
    "#     \"Air-Conditioned Two-Tier Class (2AC)\",\n",
    "#     \"Air-Conditioned Three-Tier Class (3AC)\",\n",
    "#     \"First Class (FC)\",\n",
    "#     \"AC Chair Class (CC)\",\n",
    "#     \"Sleeper Class (SL)\",\n",
    "#     \"Second Class (2S)\",\n",
    "# ]\n",
    "\n",
    "class_type=[\"EC\",\n",
    "\"1AC\",\n",
    "\"2AC\",\n",
    "\"3AC\",\n",
    "\"FC\",\n",
    "\"CC\",\n",
    "\"SL\",\n",
    "\"2S\"]\n"
   ]
  },
  {
   "cell_type": "code",
   "execution_count": 67,
   "id": "cardiac-civilian",
   "metadata": {},
   "outputs": [],
   "source": [
    "def setTime():\n",
    "    h = '0' + str(rn.randint(0,12))\n",
    "    m = '0' + str(rn.randint(0,59))\n",
    "    s = '0' + str(rn.randint(0,59))\n",
    "    return h[-2:]+\":\" + m[-2:]+\":\" + s[-2:]"
   ]
  },
  {
   "cell_type": "code",
   "execution_count": 85,
   "id": "thirty-cache",
   "metadata": {},
   "outputs": [],
   "source": [
    "train_no = list()\n",
    "file = open(\"train_data.sql\",\"w\")\n",
    "for i in range(400):\n",
    "    source = _cities[rn.randint(0,len(_cities)-1)]\n",
    "    destination = _cities[rn.randint(0,len(_cities)-1)]\n",
    "    while(source==destination):\n",
    "        destination = _cities[rn.randint(0,len(_cities)-1)]\n",
    "    num = rn.randint(1000,9999)\n",
    "    trainno = trainno = source[0] + destination[0] + \"-\" + str(num)\n",
    "    while(trainno in train_no):\n",
    "        source = _cities[rn.randint(0,len(_cities)-1)]\n",
    "        destination = _cities[rn.randint(0,len(_cities)-1)]\n",
    "        while(source==destination):\n",
    "            destination = _cities[rn.randint(0,len(_cities)-1)]\n",
    "        num = rn.randint(1000,9999)\n",
    "        trainno = trainno = source[0] + destination[0] + \"-\" + str(num)\n",
    "    if trainno not in train_no:\n",
    "        train_no.append(trainno)\n",
    "    classType = class_type[rn.randint(0,len(class_type)-1)]\n",
    "    arrival = setTime()\n",
    "    departure = setTime()\n",
    "    distance = rn.randint(100, 500)\n",
    "    fare = round(distance * 0.3)\n",
    "    distance = str(distance)\n",
    "    fare = str(fare)\n",
    "    string = \"INSERT INTO train VALUES('\"+ trainno+ \"', '\" + source+\"', '\"+destination+\"', '\"+classType+\"', '\"+fare+\"', '\"+arrival+\"', '\"+departure+\"', '\"+distance+\"');\\n\"\n",
    "    file.write(string)\n",
    "#     print(string)\n",
    "file.close()\n"
   ]
  },
  {
   "cell_type": "code",
   "execution_count": 87,
   "id": "broadband-symbol",
   "metadata": {},
   "outputs": [
    {
     "name": "stdout",
     "output_type": "stream",
     "text": [
      "<option>Bank of Baroda</option><option>Bank of India</option><option>Bank of Maharashtra</option><option>Canara Bank</option><option>Central Bank of India</option><option>Indian Bank</option><option>Indian Overseas Bank</option><option>Jammu & Kashmir Bank</option><option>Punjab and Sind Bank</option><option>Punjab National Bank</option><option>State Bank of India</option><option>UCO Bank</option><option>Union Bank of India</option>"
     ]
    }
   ],
   "source": [
    "banks = [\"Bank of Baroda\", \"Bank of India\", \"Bank of Maharashtra\", \"Canara Bank\", \"Central Bank of India\", \"Indian Bank\", \"Indian Overseas Bank\", \"Jammu & Kashmir Bank\", \"Punjab and Sind Bank\", \"Punjab National Bank\", \"State Bank of India\", \"UCO Bank\" ,\"Union Bank of India\"]\n",
    "for bank in banks:\n",
    "    print(f\"<option>{bank}</option>\", end=\"\")"
   ]
  }
 ],
 "metadata": {
  "kernelspec": {
   "display_name": "Python 3",
   "language": "python",
   "name": "python3"
  },
  "language_info": {
   "codemirror_mode": {
    "name": "ipython",
    "version": 3
   },
   "file_extension": ".py",
   "mimetype": "text/x-python",
   "name": "python",
   "nbconvert_exporter": "python",
   "pygments_lexer": "ipython3",
   "version": "3.9.2"
  }
 },
 "nbformat": 4,
 "nbformat_minor": 5
}
